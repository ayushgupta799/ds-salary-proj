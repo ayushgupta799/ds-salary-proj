{
  "nbformat": 4,
  "nbformat_minor": 0,
  "metadata": {
    "colab": {
      "name": "model_building.ipynb",
      "provenance": [],
      "collapsed_sections": []
    },
    "kernelspec": {
      "name": "python3",
      "display_name": "Python 3"
    }
  },
  "cells": [
    {
      "cell_type": "code",
      "metadata": {
        "id": "dt6BMvUg9jcM"
      },
      "source": [
        "import pandas as pd \r\n",
        "import matplotlib.pyplot as plt \r\n",
        "import numpy as np \r\n",
        "\r\n",
        "df = pd.read_csv('/content/eda_data.csv')"
      ],
      "execution_count": 19,
      "outputs": []
    },
    {
      "cell_type": "code",
      "metadata": {
        "colab": {
          "base_uri": "https://localhost:8080/"
        },
        "id": "6MAb7ATm_uQB",
        "outputId": "b8fc51c4-71e4-44e7-d889-f7fd6586552b"
      },
      "source": [
        "df.columns"
      ],
      "execution_count": 20,
      "outputs": [
        {
          "output_type": "execute_result",
          "data": {
            "text/plain": [
              "Index(['Unnamed: 0', 'Job Title', 'Salary Estimate', 'Job Description',\n",
              "       'Rating', 'Company Name', 'Location', 'Headquarters', 'Size', 'Founded',\n",
              "       'Type of ownership', 'Industry', 'Sector', 'Revenue', 'Competitors',\n",
              "       'hourly', 'employer_provided', 'min_salary', 'max_salary', 'avg_salary',\n",
              "       'company_txt', 'job_state', 'same_state', 'age', 'python_yn', 'R_yn',\n",
              "       'spark', 'aws', 'excel', 'job_simp', 'seniority', 'desc_len',\n",
              "       'num_comp'],\n",
              "      dtype='object')"
            ]
          },
          "metadata": {
            "tags": []
          },
          "execution_count": 20
        }
      ]
    },
    {
      "cell_type": "code",
      "metadata": {
        "colab": {
          "base_uri": "https://localhost:8080/",
          "height": 1000
        },
        "id": "YeJCuO6__yGJ",
        "outputId": "96651809-c605-4782-db7f-b53e6bc1559c"
      },
      "source": [
        "df_model = df[['avg_salary','Rating','Size','Type of ownership','Industry','Sector','Revenue','num_comp','hourly','employer_provided',\r\n",
        "             'job_state','same_state','age','python_yn','spark','aws','excel','job_simp','seniority','desc_len']]\r\n",
        "\r\n",
        "# get dummy data \r\n",
        "df_dum = pd.get_dummies(df_model)\r\n",
        "\r\n",
        "# train test split \r\n",
        "from sklearn.model_selection import train_test_split\r\n",
        "\r\n",
        "X = df_dum.drop('avg_salary', axis =1)\r\n",
        "y = df_dum.avg_salary.values\r\n",
        "\r\n",
        "X_train, X_test, y_train, y_test = train_test_split(X, y, test_size=0.2, random_state=42)\r\n",
        "\r\n",
        "# multiple linear regression \r\n",
        "import statsmodels.api as sm\r\n",
        "\r\n",
        "X_sm = X = sm.add_constant(X)\r\n",
        "model = sm.OLS(y,X_sm)\r\n",
        "model.fit().summary()"
      ],
      "execution_count": 21,
      "outputs": [
        {
          "output_type": "execute_result",
          "data": {
            "text/html": [
              "<table class=\"simpletable\">\n",
              "<caption>OLS Regression Results</caption>\n",
              "<tr>\n",
              "  <th>Dep. Variable:</th>            <td>y</td>        <th>  R-squared:         </th> <td>   0.708</td>\n",
              "</tr>\n",
              "<tr>\n",
              "  <th>Model:</th>                   <td>OLS</td>       <th>  Adj. R-squared:    </th> <td>   0.638</td>\n",
              "</tr>\n",
              "<tr>\n",
              "  <th>Method:</th>             <td>Least Squares</td>  <th>  F-statistic:       </th> <td>   10.21</td>\n",
              "</tr>\n",
              "<tr>\n",
              "  <th>Date:</th>             <td>Fri, 12 Mar 2021</td> <th>  Prob (F-statistic):</th> <td>1.47e-94</td>\n",
              "</tr>\n",
              "<tr>\n",
              "  <th>Time:</th>                 <td>12:34:07</td>     <th>  Log-Likelihood:    </th> <td> -3311.6</td>\n",
              "</tr>\n",
              "<tr>\n",
              "  <th>No. Observations:</th>      <td>   742</td>      <th>  AIC:               </th> <td>   6909.</td>\n",
              "</tr>\n",
              "<tr>\n",
              "  <th>Df Residuals:</th>          <td>   599</td>      <th>  BIC:               </th> <td>   7568.</td>\n",
              "</tr>\n",
              "<tr>\n",
              "  <th>Df Model:</th>              <td>   142</td>      <th>                     </th>     <td> </td>   \n",
              "</tr>\n",
              "<tr>\n",
              "  <th>Covariance Type:</th>      <td>nonrobust</td>    <th>                     </th>     <td> </td>   \n",
              "</tr>\n",
              "</table>\n",
              "<table class=\"simpletable\">\n",
              "<tr>\n",
              "                          <td></td>                             <th>coef</th>     <th>std err</th>      <th>t</th>      <th>P>|t|</th>  <th>[0.025</th>    <th>0.975]</th>  \n",
              "</tr>\n",
              "<tr>\n",
              "  <th>const</th>                                             <td>   43.6206</td> <td>    6.718</td> <td>    6.493</td> <td> 0.000</td> <td>   30.427</td> <td>   56.814</td>\n",
              "</tr>\n",
              "<tr>\n",
              "  <th>Rating</th>                                            <td>    3.6072</td> <td>    1.937</td> <td>    1.862</td> <td> 0.063</td> <td>   -0.197</td> <td>    7.412</td>\n",
              "</tr>\n",
              "<tr>\n",
              "  <th>num_comp</th>                                          <td>    2.2503</td> <td>    0.868</td> <td>    2.592</td> <td> 0.010</td> <td>    0.545</td> <td>    3.955</td>\n",
              "</tr>\n",
              "<tr>\n",
              "  <th>hourly</th>                                            <td>  -36.5646</td> <td>    9.173</td> <td>   -3.986</td> <td> 0.000</td> <td>  -54.580</td> <td>  -18.549</td>\n",
              "</tr>\n",
              "<tr>\n",
              "  <th>employer_provided</th>                                 <td>   31.3732</td> <td>   11.524</td> <td>    2.722</td> <td> 0.007</td> <td>    8.741</td> <td>   54.006</td>\n",
              "</tr>\n",
              "<tr>\n",
              "  <th>same_state</th>                                        <td>    2.4864</td> <td>    2.619</td> <td>    0.949</td> <td> 0.343</td> <td>   -2.657</td> <td>    7.629</td>\n",
              "</tr>\n",
              "<tr>\n",
              "  <th>age</th>                                               <td>    0.0352</td> <td>    0.030</td> <td>    1.172</td> <td> 0.242</td> <td>   -0.024</td> <td>    0.094</td>\n",
              "</tr>\n",
              "<tr>\n",
              "  <th>python_yn</th>                                         <td>    8.1375</td> <td>    2.523</td> <td>    3.225</td> <td> 0.001</td> <td>    3.182</td> <td>   13.093</td>\n",
              "</tr>\n",
              "<tr>\n",
              "  <th>spark</th>                                             <td>   -0.5710</td> <td>    2.920</td> <td>   -0.196</td> <td> 0.845</td> <td>   -6.307</td> <td>    5.165</td>\n",
              "</tr>\n",
              "<tr>\n",
              "  <th>aws</th>                                               <td>    1.1218</td> <td>    2.736</td> <td>    0.410</td> <td> 0.682</td> <td>   -4.251</td> <td>    6.495</td>\n",
              "</tr>\n",
              "<tr>\n",
              "  <th>excel</th>                                             <td>   -0.4049</td> <td>    2.268</td> <td>   -0.179</td> <td> 0.858</td> <td>   -4.858</td> <td>    4.049</td>\n",
              "</tr>\n",
              "<tr>\n",
              "  <th>desc_len</th>                                          <td>   -0.0001</td> <td>    0.001</td> <td>   -0.171</td> <td> 0.864</td> <td>   -0.002</td> <td>    0.001</td>\n",
              "</tr>\n",
              "<tr>\n",
              "  <th>Size_-1</th>                                           <td>   13.6113</td> <td>    8.629</td> <td>    1.577</td> <td> 0.115</td> <td>   -3.335</td> <td>   30.558</td>\n",
              "</tr>\n",
              "<tr>\n",
              "  <th>Size_1 to 50 employees</th>                            <td>    1.1067</td> <td>    6.501</td> <td>    0.170</td> <td> 0.865</td> <td>  -11.660</td> <td>   13.874</td>\n",
              "</tr>\n",
              "<tr>\n",
              "  <th>Size_10000+ employees</th>                             <td>   -2.8817</td> <td>    5.800</td> <td>   -0.497</td> <td> 0.619</td> <td>  -14.272</td> <td>    8.509</td>\n",
              "</tr>\n",
              "<tr>\n",
              "  <th>Size_1001 to 5000 employees</th>                       <td>    6.1362</td> <td>    3.878</td> <td>    1.582</td> <td> 0.114</td> <td>   -1.481</td> <td>   13.753</td>\n",
              "</tr>\n",
              "<tr>\n",
              "  <th>Size_201 to 500 employees</th>                         <td>    2.2568</td> <td>    3.873</td> <td>    0.583</td> <td> 0.560</td> <td>   -5.350</td> <td>    9.864</td>\n",
              "</tr>\n",
              "<tr>\n",
              "  <th>Size_5001 to 10000 employees</th>                      <td>   -3.8766</td> <td>    5.440</td> <td>   -0.713</td> <td> 0.476</td> <td>  -14.561</td> <td>    6.808</td>\n",
              "</tr>\n",
              "<tr>\n",
              "  <th>Size_501 to 1000 employees</th>                        <td>    2.1829</td> <td>    4.059</td> <td>    0.538</td> <td> 0.591</td> <td>   -5.790</td> <td>   10.155</td>\n",
              "</tr>\n",
              "<tr>\n",
              "  <th>Size_51 to 200 employees</th>                          <td>    4.2001</td> <td>    4.422</td> <td>    0.950</td> <td> 0.343</td> <td>   -4.484</td> <td>   12.884</td>\n",
              "</tr>\n",
              "<tr>\n",
              "  <th>Size_Unknown</th>                                      <td>   20.8850</td> <td>   13.992</td> <td>    1.493</td> <td> 0.136</td> <td>   -6.594</td> <td>   48.363</td>\n",
              "</tr>\n",
              "<tr>\n",
              "  <th>Type of ownership_-1</th>                              <td>   13.6113</td> <td>    8.629</td> <td>    1.577</td> <td> 0.115</td> <td>   -3.335</td> <td>   30.558</td>\n",
              "</tr>\n",
              "<tr>\n",
              "  <th>Type of ownership_College / University</th>            <td>    6.4226</td> <td>   17.739</td> <td>    0.362</td> <td> 0.717</td> <td>  -28.415</td> <td>   41.260</td>\n",
              "</tr>\n",
              "<tr>\n",
              "  <th>Type of ownership_Company - Private</th>               <td>    8.5961</td> <td>    5.239</td> <td>    1.641</td> <td> 0.101</td> <td>   -1.693</td> <td>   18.885</td>\n",
              "</tr>\n",
              "<tr>\n",
              "  <th>Type of ownership_Company - Public</th>                <td>   13.2838</td> <td>    5.699</td> <td>    2.331</td> <td> 0.020</td> <td>    2.092</td> <td>   24.476</td>\n",
              "</tr>\n",
              "<tr>\n",
              "  <th>Type of ownership_Government</th>                      <td>  -15.3361</td> <td>   15.289</td> <td>   -1.003</td> <td> 0.316</td> <td>  -45.363</td> <td>   14.690</td>\n",
              "</tr>\n",
              "<tr>\n",
              "  <th>Type of ownership_Hospital</th>                        <td>   -7.1449</td> <td>    9.965</td> <td>   -0.717</td> <td> 0.474</td> <td>  -26.715</td> <td>   12.425</td>\n",
              "</tr>\n",
              "<tr>\n",
              "  <th>Type of ownership_Nonprofit Organization</th>          <td>   -9.8081</td> <td>    6.711</td> <td>   -1.461</td> <td> 0.144</td> <td>  -22.988</td> <td>    3.372</td>\n",
              "</tr>\n",
              "<tr>\n",
              "  <th>Type of ownership_Other Organization</th>              <td>   -5.9776</td> <td>   14.342</td> <td>   -0.417</td> <td> 0.677</td> <td>  -34.145</td> <td>   22.190</td>\n",
              "</tr>\n",
              "<tr>\n",
              "  <th>Type of ownership_School / School District</th>        <td>   -5.9877</td> <td>   23.790</td> <td>   -0.252</td> <td> 0.801</td> <td>  -52.711</td> <td>   40.735</td>\n",
              "</tr>\n",
              "<tr>\n",
              "  <th>Type of ownership_Subsidiary or Business Segment</th>  <td>   12.7968</td> <td>    6.928</td> <td>    1.847</td> <td> 0.065</td> <td>   -0.809</td> <td>   26.403</td>\n",
              "</tr>\n",
              "<tr>\n",
              "  <th>Type of ownership_Unknown</th>                         <td>   33.1643</td> <td>   28.609</td> <td>    1.159</td> <td> 0.247</td> <td>  -23.021</td> <td>   89.350</td>\n",
              "</tr>\n",
              "<tr>\n",
              "  <th>Industry_-1</th>                                       <td>    5.8348</td> <td>    7.935</td> <td>    0.735</td> <td> 0.462</td> <td>   -9.749</td> <td>   21.418</td>\n",
              "</tr>\n",
              "<tr>\n",
              "  <th>Industry_Accounting</th>                               <td>    2.5126</td> <td>   13.486</td> <td>    0.186</td> <td> 0.852</td> <td>  -23.972</td> <td>   28.998</td>\n",
              "</tr>\n",
              "<tr>\n",
              "  <th>Industry_Advertising & Marketing</th>                  <td>   11.6598</td> <td>    5.976</td> <td>    1.951</td> <td> 0.051</td> <td>   -0.076</td> <td>   23.395</td>\n",
              "</tr>\n",
              "<tr>\n",
              "  <th>Industry_Aerospace & Defense</th>                      <td>    5.5848</td> <td>    3.109</td> <td>    1.796</td> <td> 0.073</td> <td>   -0.522</td> <td>   11.691</td>\n",
              "</tr>\n",
              "<tr>\n",
              "  <th>Industry_Architectural & Engineering Services</th>     <td>  -32.4290</td> <td>   15.935</td> <td>   -2.035</td> <td> 0.042</td> <td>  -63.725</td> <td>   -1.133</td>\n",
              "</tr>\n",
              "<tr>\n",
              "  <th>Industry_Auctions & Galleries</th>                     <td>    9.2579</td> <td>   22.878</td> <td>    0.405</td> <td> 0.686</td> <td>  -35.673</td> <td>   54.188</td>\n",
              "</tr>\n",
              "<tr>\n",
              "  <th>Industry_Banks & Credit Unions</th>                    <td>  -16.9696</td> <td>    8.047</td> <td>   -2.109</td> <td> 0.035</td> <td>  -32.773</td> <td>   -1.166</td>\n",
              "</tr>\n",
              "<tr>\n",
              "  <th>Industry_Beauty & Personal Accessories Stores</th>     <td>   15.4350</td> <td>   21.561</td> <td>    0.716</td> <td> 0.474</td> <td>  -26.910</td> <td>   57.780</td>\n",
              "</tr>\n",
              "<tr>\n",
              "  <th>Industry_Biotech & Pharmaceuticals</th>                <td>    6.4280</td> <td>    2.045</td> <td>    3.144</td> <td> 0.002</td> <td>    2.413</td> <td>   10.443</td>\n",
              "</tr>\n",
              "<tr>\n",
              "  <th>Industry_Brokerage Services</th>                       <td>   28.1129</td> <td>   15.522</td> <td>    1.811</td> <td> 0.071</td> <td>   -2.371</td> <td>   58.597</td>\n",
              "</tr>\n",
              "<tr>\n",
              "  <th>Industry_Colleges & Universities</th>                  <td>   10.9589</td> <td>   12.989</td> <td>    0.844</td> <td> 0.399</td> <td>  -14.551</td> <td>   36.469</td>\n",
              "</tr>\n",
              "<tr>\n",
              "  <th>Industry_Computer Hardware & Software</th>             <td>   -0.9258</td> <td>    3.250</td> <td>   -0.285</td> <td> 0.776</td> <td>   -7.308</td> <td>    5.457</td>\n",
              "</tr>\n",
              "<tr>\n",
              "  <th>Industry_Construction</th>                             <td>  -15.5552</td> <td>   10.562</td> <td>   -1.473</td> <td> 0.141</td> <td>  -36.297</td> <td>    5.187</td>\n",
              "</tr>\n",
              "<tr>\n",
              "  <th>Industry_Consulting</th>                               <td>   12.9352</td> <td>    5.900</td> <td>    2.192</td> <td> 0.029</td> <td>    1.347</td> <td>   24.523</td>\n",
              "</tr>\n",
              "<tr>\n",
              "  <th>Industry_Consumer Product Rental</th>                  <td>   -2.4434</td> <td>   13.017</td> <td>   -0.188</td> <td> 0.851</td> <td>  -28.008</td> <td>   23.121</td>\n",
              "</tr>\n",
              "<tr>\n",
              "  <th>Industry_Consumer Products Manufacturing</th>          <td>   13.8230</td> <td>    9.857</td> <td>    1.402</td> <td> 0.161</td> <td>   -5.536</td> <td>   33.182</td>\n",
              "</tr>\n",
              "<tr>\n",
              "  <th>Industry_Department, Clothing, & Shoe Stores</th>      <td>    4.7499</td> <td>   11.581</td> <td>    0.410</td> <td> 0.682</td> <td>  -17.994</td> <td>   27.494</td>\n",
              "</tr>\n",
              "<tr>\n",
              "  <th>Industry_Education Training Services</th>              <td>  -23.4814</td> <td>   12.524</td> <td>   -1.875</td> <td> 0.061</td> <td>  -48.078</td> <td>    1.115</td>\n",
              "</tr>\n",
              "<tr>\n",
              "  <th>Industry_Energy</th>                                   <td>   -4.1878</td> <td>    7.677</td> <td>   -0.545</td> <td> 0.586</td> <td>  -19.266</td> <td>   10.890</td>\n",
              "</tr>\n",
              "<tr>\n",
              "  <th>Industry_Enterprise Software & Network Solutions</th>  <td>    9.5038</td> <td>    3.592</td> <td>    2.646</td> <td> 0.008</td> <td>    2.450</td> <td>   16.558</td>\n",
              "</tr>\n",
              "<tr>\n",
              "  <th>Industry_Farm Support Services</th>                    <td>   -0.9070</td> <td>   12.652</td> <td>   -0.072</td> <td> 0.943</td> <td>  -25.755</td> <td>   23.941</td>\n",
              "</tr>\n",
              "<tr>\n",
              "  <th>Industry_Federal Agencies</th>                         <td>    8.0856</td> <td>    5.268</td> <td>    1.535</td> <td> 0.125</td> <td>   -2.260</td> <td>   18.432</td>\n",
              "</tr>\n",
              "<tr>\n",
              "  <th>Industry_Financial Analytics & Research</th>           <td>    0.3475</td> <td>    9.196</td> <td>    0.038</td> <td> 0.970</td> <td>  -17.712</td> <td>   18.407</td>\n",
              "</tr>\n",
              "<tr>\n",
              "  <th>Industry_Financial Transaction Processing</th>         <td>  -17.5024</td> <td>   12.894</td> <td>   -1.357</td> <td> 0.175</td> <td>  -42.826</td> <td>    7.821</td>\n",
              "</tr>\n",
              "<tr>\n",
              "  <th>Industry_Food & Beverage Manufacturing</th>            <td>   -3.1456</td> <td>   11.578</td> <td>   -0.272</td> <td> 0.786</td> <td>  -25.885</td> <td>   19.594</td>\n",
              "</tr>\n",
              "<tr>\n",
              "  <th>Industry_Gambling</th>                                 <td>   -9.2462</td> <td>    6.524</td> <td>   -1.417</td> <td> 0.157</td> <td>  -22.059</td> <td>    3.567</td>\n",
              "</tr>\n",
              "<tr>\n",
              "  <th>Industry_Gas Stations</th>                             <td>  -24.3209</td> <td>   15.543</td> <td>   -1.565</td> <td> 0.118</td> <td>  -54.846</td> <td>    6.204</td>\n",
              "</tr>\n",
              "<tr>\n",
              "  <th>Industry_Health Care Products Manufacturing</th>       <td>   20.9949</td> <td>   22.123</td> <td>    0.949</td> <td> 0.343</td> <td>  -22.453</td> <td>   64.442</td>\n",
              "</tr>\n",
              "<tr>\n",
              "  <th>Industry_Health Care Services & Hospitals</th>         <td>    5.9443</td> <td>    2.916</td> <td>    2.038</td> <td> 0.042</td> <td>    0.217</td> <td>   11.672</td>\n",
              "</tr>\n",
              "<tr>\n",
              "  <th>Industry_Health, Beauty, & Fitness</th>                <td>   -2.2570</td> <td>   17.435</td> <td>   -0.129</td> <td> 0.897</td> <td>  -36.498</td> <td>   31.983</td>\n",
              "</tr>\n",
              "<tr>\n",
              "  <th>Industry_IT Services</th>                              <td>    1.2166</td> <td>    3.581</td> <td>    0.340</td> <td> 0.734</td> <td>   -5.815</td> <td>    8.248</td>\n",
              "</tr>\n",
              "<tr>\n",
              "  <th>Industry_Industrial Manufacturing</th>                 <td>  -13.8216</td> <td>   12.833</td> <td>   -1.077</td> <td> 0.282</td> <td>  -39.024</td> <td>   11.381</td>\n",
              "</tr>\n",
              "<tr>\n",
              "  <th>Industry_Insurance Agencies & Brokerages</th>          <td>   -3.9085</td> <td>    7.005</td> <td>   -0.558</td> <td> 0.577</td> <td>  -17.666</td> <td>    9.849</td>\n",
              "</tr>\n",
              "<tr>\n",
              "  <th>Industry_Insurance Carriers</th>                       <td>    5.5811</td> <td>    4.489</td> <td>    1.243</td> <td> 0.214</td> <td>   -3.235</td> <td>   14.397</td>\n",
              "</tr>\n",
              "<tr>\n",
              "  <th>Industry_Internet</th>                                 <td>    0.3640</td> <td>    4.513</td> <td>    0.081</td> <td> 0.936</td> <td>   -8.500</td> <td>    9.228</td>\n",
              "</tr>\n",
              "<tr>\n",
              "  <th>Industry_Investment Banking & Asset Management</th>    <td>   35.8541</td> <td>   12.086</td> <td>    2.967</td> <td> 0.003</td> <td>   12.118</td> <td>   59.591</td>\n",
              "</tr>\n",
              "<tr>\n",
              "  <th>Industry_K-12 Education</th>                           <td>   10.0777</td> <td>   14.781</td> <td>    0.682</td> <td> 0.496</td> <td>  -18.951</td> <td>   39.106</td>\n",
              "</tr>\n",
              "<tr>\n",
              "  <th>Industry_Lending</th>                                  <td>   -1.5172</td> <td>    9.862</td> <td>   -0.154</td> <td> 0.878</td> <td>  -20.885</td> <td>   17.851</td>\n",
              "</tr>\n",
              "<tr>\n",
              "  <th>Industry_Logistics & Supply Chain</th>                 <td>    1.4241</td> <td>   13.404</td> <td>    0.106</td> <td> 0.915</td> <td>  -24.901</td> <td>   27.749</td>\n",
              "</tr>\n",
              "<tr>\n",
              "  <th>Industry_Metals Brokers</th>                           <td>   -7.9160</td> <td>   15.608</td> <td>   -0.507</td> <td> 0.612</td> <td>  -38.569</td> <td>   22.737</td>\n",
              "</tr>\n",
              "<tr>\n",
              "  <th>Industry_Mining</th>                                   <td>   -3.6172</td> <td>   17.981</td> <td>   -0.201</td> <td> 0.841</td> <td>  -38.930</td> <td>   31.696</td>\n",
              "</tr>\n",
              "<tr>\n",
              "  <th>Industry_Motion Picture Production & Distribution</th> <td>   46.0377</td> <td>   19.607</td> <td>    2.348</td> <td> 0.019</td> <td>    7.530</td> <td>   84.545</td>\n",
              "</tr>\n",
              "<tr>\n",
              "  <th>Industry_Other Retail Stores</th>                      <td>   40.0083</td> <td>   21.695</td> <td>    1.844</td> <td> 0.066</td> <td>   -2.599</td> <td>   82.615</td>\n",
              "</tr>\n",
              "<tr>\n",
              "  <th>Industry_Real Estate</th>                              <td>   -2.3233</td> <td>    4.960</td> <td>   -0.468</td> <td> 0.640</td> <td>  -12.064</td> <td>    7.417</td>\n",
              "</tr>\n",
              "<tr>\n",
              "  <th>Industry_Religious Organizations</th>                  <td>   25.8674</td> <td>   13.712</td> <td>    1.887</td> <td> 0.060</td> <td>   -1.062</td> <td>   52.796</td>\n",
              "</tr>\n",
              "<tr>\n",
              "  <th>Industry_Research & Development</th>                   <td>   -3.1169</td> <td>    6.544</td> <td>   -0.476</td> <td> 0.634</td> <td>  -15.969</td> <td>    9.735</td>\n",
              "</tr>\n",
              "<tr>\n",
              "  <th>Industry_Security Services</th>                        <td>   14.3480</td> <td>    9.791</td> <td>    1.465</td> <td> 0.143</td> <td>   -4.881</td> <td>   33.577</td>\n",
              "</tr>\n",
              "<tr>\n",
              "  <th>Industry_Social Assistance</th>                        <td>  -11.0802</td> <td>   11.785</td> <td>   -0.940</td> <td> 0.347</td> <td>  -34.225</td> <td>   12.065</td>\n",
              "</tr>\n",
              "<tr>\n",
              "  <th>Industry_Sporting Goods Stores</th>                    <td>  -37.3253</td> <td>   17.862</td> <td>   -2.090</td> <td> 0.037</td> <td>  -72.404</td> <td>   -2.246</td>\n",
              "</tr>\n",
              "<tr>\n",
              "  <th>Industry_Staffing & Outsourcing</th>                   <td>   -5.4095</td> <td>   11.017</td> <td>   -0.491</td> <td> 0.624</td> <td>  -27.047</td> <td>   16.228</td>\n",
              "</tr>\n",
              "<tr>\n",
              "  <th>Industry_Stock Exchanges</th>                          <td>  -15.1193</td> <td>    7.891</td> <td>   -1.916</td> <td> 0.056</td> <td>  -30.617</td> <td>    0.378</td>\n",
              "</tr>\n",
              "<tr>\n",
              "  <th>Industry_TV Broadcast & Cable Networks</th>            <td>    0.0047</td> <td>   15.540</td> <td>    0.000</td> <td> 1.000</td> <td>  -30.515</td> <td>   30.524</td>\n",
              "</tr>\n",
              "<tr>\n",
              "  <th>Industry_Telecommunications Manufacturing</th>         <td>    4.1739</td> <td>   13.669</td> <td>    0.305</td> <td> 0.760</td> <td>  -22.671</td> <td>   31.019</td>\n",
              "</tr>\n",
              "<tr>\n",
              "  <th>Industry_Telecommunications Services</th>              <td>    0.1435</td> <td>   11.268</td> <td>    0.013</td> <td> 0.990</td> <td>  -21.986</td> <td>   22.273</td>\n",
              "</tr>\n",
              "<tr>\n",
              "  <th>Industry_Transportation Equipment Manufacturing</th>   <td>  -19.4087</td> <td>   23.723</td> <td>   -0.818</td> <td> 0.414</td> <td>  -66.000</td> <td>   27.182</td>\n",
              "</tr>\n",
              "<tr>\n",
              "  <th>Industry_Transportation Management</th>                <td>  -20.6808</td> <td>   14.025</td> <td>   -1.475</td> <td> 0.141</td> <td>  -48.226</td> <td>    6.864</td>\n",
              "</tr>\n",
              "<tr>\n",
              "  <th>Industry_Travel Agencies</th>                          <td>   -5.5128</td> <td>    5.255</td> <td>   -1.049</td> <td> 0.295</td> <td>  -15.833</td> <td>    4.808</td>\n",
              "</tr>\n",
              "<tr>\n",
              "  <th>Industry_Trucking</th>                                 <td>   22.8333</td> <td>   19.851</td> <td>    1.150</td> <td> 0.251</td> <td>  -16.153</td> <td>   61.820</td>\n",
              "</tr>\n",
              "<tr>\n",
              "  <th>Industry_Video Games</th>                              <td>  -30.1323</td> <td>   14.431</td> <td>   -2.088</td> <td> 0.037</td> <td>  -58.474</td> <td>   -1.791</td>\n",
              "</tr>\n",
              "<tr>\n",
              "  <th>Industry_Wholesale</th>                                <td>   -2.2218</td> <td>   13.108</td> <td>   -0.170</td> <td> 0.865</td> <td>  -27.964</td> <td>   23.521</td>\n",
              "</tr>\n",
              "<tr>\n",
              "  <th>Sector_-1</th>                                         <td>    5.8348</td> <td>    7.935</td> <td>    0.735</td> <td> 0.462</td> <td>   -9.749</td> <td>   21.418</td>\n",
              "</tr>\n",
              "<tr>\n",
              "  <th>Sector_Accounting & Legal</th>                         <td>    2.5126</td> <td>   13.486</td> <td>    0.186</td> <td> 0.852</td> <td>  -23.972</td> <td>   28.998</td>\n",
              "</tr>\n",
              "<tr>\n",
              "  <th>Sector_Aerospace & Defense</th>                        <td>    5.5848</td> <td>    3.109</td> <td>    1.796</td> <td> 0.073</td> <td>   -0.522</td> <td>   11.691</td>\n",
              "</tr>\n",
              "<tr>\n",
              "  <th>Sector_Agriculture & Forestry</th>                     <td>   -0.9070</td> <td>   12.652</td> <td>   -0.072</td> <td> 0.943</td> <td>  -25.755</td> <td>   23.941</td>\n",
              "</tr>\n",
              "<tr>\n",
              "  <th>Sector_Arts, Entertainment & Recreation</th>           <td>   -9.2462</td> <td>    6.524</td> <td>   -1.417</td> <td> 0.157</td> <td>  -22.059</td> <td>    3.567</td>\n",
              "</tr>\n",
              "<tr>\n",
              "  <th>Sector_Biotech & Pharmaceuticals</th>                  <td>    6.4280</td> <td>    2.045</td> <td>    3.144</td> <td> 0.002</td> <td>    2.413</td> <td>   10.443</td>\n",
              "</tr>\n",
              "<tr>\n",
              "  <th>Sector_Business Services</th>                          <td>   -4.2343</td> <td>    4.213</td> <td>   -1.005</td> <td> 0.315</td> <td>  -12.508</td> <td>    4.039</td>\n",
              "</tr>\n",
              "<tr>\n",
              "  <th>Sector_Construction, Repair & Maintenance</th>         <td>  -15.5552</td> <td>   10.562</td> <td>   -1.473</td> <td> 0.141</td> <td>  -36.297</td> <td>    5.187</td>\n",
              "</tr>\n",
              "<tr>\n",
              "  <th>Sector_Consumer Services</th>                          <td>   -4.7005</td> <td>    9.426</td> <td>   -0.499</td> <td> 0.618</td> <td>  -23.212</td> <td>   13.811</td>\n",
              "</tr>\n",
              "<tr>\n",
              "  <th>Sector_Education</th>                                  <td>   -2.4448</td> <td>    6.838</td> <td>   -0.358</td> <td> 0.721</td> <td>  -15.874</td> <td>   10.984</td>\n",
              "</tr>\n",
              "<tr>\n",
              "  <th>Sector_Finance</th>                                    <td>   13.2060</td> <td>    4.519</td> <td>    2.923</td> <td> 0.004</td> <td>    4.332</td> <td>   22.080</td>\n",
              "</tr>\n",
              "<tr>\n",
              "  <th>Sector_Government</th>                                 <td>    8.0856</td> <td>    5.268</td> <td>    1.535</td> <td> 0.125</td> <td>   -2.260</td> <td>   18.432</td>\n",
              "</tr>\n",
              "<tr>\n",
              "  <th>Sector_Health Care</th>                                <td>    5.9443</td> <td>    2.916</td> <td>    2.038</td> <td> 0.042</td> <td>    0.217</td> <td>   11.672</td>\n",
              "</tr>\n",
              "<tr>\n",
              "  <th>Sector_Information Technology</th>                     <td>   10.1586</td> <td>    2.786</td> <td>    3.647</td> <td> 0.000</td> <td>    4.688</td> <td>   15.630</td>\n",
              "</tr>\n",
              "<tr>\n",
              "  <th>Sector_Insurance</th>                                  <td>    1.6726</td> <td>    3.944</td> <td>    0.424</td> <td> 0.672</td> <td>   -6.074</td> <td>    9.419</td>\n",
              "</tr>\n",
              "<tr>\n",
              "  <th>Sector_Manufacturing</th>                              <td>   -1.5580</td> <td>    6.909</td> <td>   -0.225</td> <td> 0.822</td> <td>  -15.127</td> <td>   12.011</td>\n",
              "</tr>\n",
              "<tr>\n",
              "  <th>Sector_Media</th>                                      <td>   15.9102</td> <td>    8.725</td> <td>    1.824</td> <td> 0.069</td> <td>   -1.225</td> <td>   33.046</td>\n",
              "</tr>\n",
              "<tr>\n",
              "  <th>Sector_Mining & Metals</th>                            <td>  -11.5332</td> <td>   10.727</td> <td>   -1.075</td> <td> 0.283</td> <td>  -32.600</td> <td>    9.534</td>\n",
              "</tr>\n",
              "<tr>\n",
              "  <th>Sector_Non-Profit</th>                                 <td>   14.7872</td> <td>    8.898</td> <td>    1.662</td> <td> 0.097</td> <td>   -2.687</td> <td>   32.262</td>\n",
              "</tr>\n",
              "<tr>\n",
              "  <th>Sector_Oil, Gas, Energy & Utilities</th>               <td>   -4.1878</td> <td>    7.677</td> <td>   -0.545</td> <td> 0.586</td> <td>  -19.266</td> <td>   10.890</td>\n",
              "</tr>\n",
              "<tr>\n",
              "  <th>Sector_Real Estate</th>                                <td>   -2.3233</td> <td>    4.960</td> <td>   -0.468</td> <td> 0.640</td> <td>  -12.064</td> <td>    7.417</td>\n",
              "</tr>\n",
              "<tr>\n",
              "  <th>Sector_Retail</th>                                     <td>    7.8048</td> <td>    7.178</td> <td>    1.087</td> <td> 0.277</td> <td>   -6.292</td> <td>   21.902</td>\n",
              "</tr>\n",
              "<tr>\n",
              "  <th>Sector_Telecommunications</th>                         <td>    4.3174</td> <td>    7.813</td> <td>    0.553</td> <td> 0.581</td> <td>  -11.027</td> <td>   19.662</td>\n",
              "</tr>\n",
              "<tr>\n",
              "  <th>Sector_Transportation & Logistics</th>                 <td>    3.5766</td> <td>    8.050</td> <td>    0.444</td> <td> 0.657</td> <td>  -12.234</td> <td>   19.387</td>\n",
              "</tr>\n",
              "<tr>\n",
              "  <th>Sector_Travel & Tourism</th>                           <td>   -5.5128</td> <td>    5.255</td> <td>   -1.049</td> <td> 0.295</td> <td>  -15.833</td> <td>    4.808</td>\n",
              "</tr>\n",
              "<tr>\n",
              "  <th>Revenue_$1 to $2 billion (USD)</th>                    <td>    2.9195</td> <td>    4.800</td> <td>    0.608</td> <td> 0.543</td> <td>   -6.508</td> <td>   12.347</td>\n",
              "</tr>\n",
              "<tr>\n",
              "  <th>Revenue_$1 to $5 million (USD)</th>                    <td>   -5.6333</td> <td>   10.967</td> <td>   -0.514</td> <td> 0.608</td> <td>  -27.171</td> <td>   15.904</td>\n",
              "</tr>\n",
              "<tr>\n",
              "  <th>Revenue_$10 to $25 million (USD)</th>                  <td>   -4.8321</td> <td>    5.228</td> <td>   -0.924</td> <td> 0.356</td> <td>  -15.100</td> <td>    5.436</td>\n",
              "</tr>\n",
              "<tr>\n",
              "  <th>Revenue_$10+ billion (USD)</th>                        <td>   10.3949</td> <td>    6.397</td> <td>    1.625</td> <td> 0.105</td> <td>   -2.169</td> <td>   22.958</td>\n",
              "</tr>\n",
              "<tr>\n",
              "  <th>Revenue_$100 to $500 million (USD)</th>                <td>   -5.1215</td> <td>    4.064</td> <td>   -1.260</td> <td> 0.208</td> <td>  -13.103</td> <td>    2.860</td>\n",
              "</tr>\n",
              "<tr>\n",
              "  <th>Revenue_$2 to $5 billion (USD)</th>                    <td>    0.2203</td> <td>    6.284</td> <td>    0.035</td> <td> 0.972</td> <td>  -12.120</td> <td>   12.561</td>\n",
              "</tr>\n",
              "<tr>\n",
              "  <th>Revenue_$25 to $50 million (USD)</th>                  <td>   -5.2629</td> <td>    5.368</td> <td>   -0.980</td> <td> 0.327</td> <td>  -15.805</td> <td>    5.279</td>\n",
              "</tr>\n",
              "<tr>\n",
              "  <th>Revenue_$5 to $10 billion (USD)</th>                   <td>    6.6933</td> <td>    7.864</td> <td>    0.851</td> <td> 0.395</td> <td>   -8.751</td> <td>   22.137</td>\n",
              "</tr>\n",
              "<tr>\n",
              "  <th>Revenue_$5 to $10 million (USD)</th>                   <td>   31.8134</td> <td>    8.322</td> <td>    3.823</td> <td> 0.000</td> <td>   15.469</td> <td>   48.157</td>\n",
              "</tr>\n",
              "<tr>\n",
              "  <th>Revenue_$50 to $100 million (USD)</th>                 <td>    5.3810</td> <td>    4.973</td> <td>    1.082</td> <td> 0.280</td> <td>   -4.387</td> <td>   15.149</td>\n",
              "</tr>\n",
              "<tr>\n",
              "  <th>Revenue_$500 million to $1 billion (USD)</th>          <td>   -1.9286</td> <td>    5.298</td> <td>   -0.364</td> <td> 0.716</td> <td>  -12.333</td> <td>    8.476</td>\n",
              "</tr>\n",
              "<tr>\n",
              "  <th>Revenue_-1</th>                                        <td>   13.6113</td> <td>    8.629</td> <td>    1.577</td> <td> 0.115</td> <td>   -3.335</td> <td>   30.558</td>\n",
              "</tr>\n",
              "<tr>\n",
              "  <th>Revenue_Less than $1 million (USD)</th>                <td>   -4.3211</td> <td>   15.210</td> <td>   -0.284</td> <td> 0.776</td> <td>  -34.192</td> <td>   25.550</td>\n",
              "</tr>\n",
              "<tr>\n",
              "  <th>Revenue_Unknown / Non-Applicable</th>                  <td>   -0.3136</td> <td>    3.081</td> <td>   -0.102</td> <td> 0.919</td> <td>   -6.365</td> <td>    5.738</td>\n",
              "</tr>\n",
              "<tr>\n",
              "  <th>job_state_AL</th>                                      <td>   -5.9978</td> <td>   10.467</td> <td>   -0.573</td> <td> 0.567</td> <td>  -26.555</td> <td>   14.559</td>\n",
              "</tr>\n",
              "<tr>\n",
              "  <th>job_state_AZ</th>                                      <td>  -14.0248</td> <td>    8.626</td> <td>   -1.626</td> <td> 0.105</td> <td>  -30.966</td> <td>    2.916</td>\n",
              "</tr>\n",
              "<tr>\n",
              "  <th>job_state_CA</th>                                      <td>   26.7221</td> <td>    3.156</td> <td>    8.468</td> <td> 0.000</td> <td>   20.524</td> <td>   32.920</td>\n",
              "</tr>\n",
              "<tr>\n",
              "  <th>job_state_CO</th>                                      <td>    7.8474</td> <td>    8.299</td> <td>    0.946</td> <td> 0.345</td> <td>   -8.451</td> <td>   24.146</td>\n",
              "</tr>\n",
              "<tr>\n",
              "  <th>job_state_CT</th>                                      <td>  -23.7171</td> <td>   11.367</td> <td>   -2.087</td> <td> 0.037</td> <td>  -46.040</td> <td>   -1.394</td>\n",
              "</tr>\n",
              "<tr>\n",
              "  <th>job_state_DC</th>                                      <td>   13.7323</td> <td>    7.936</td> <td>    1.730</td> <td> 0.084</td> <td>   -1.853</td> <td>   29.318</td>\n",
              "</tr>\n",
              "<tr>\n",
              "  <th>job_state_DE</th>                                      <td>    9.2343</td> <td>   13.871</td> <td>    0.666</td> <td> 0.506</td> <td>  -18.007</td> <td>   36.476</td>\n",
              "</tr>\n",
              "<tr>\n",
              "  <th>job_state_FL</th>                                      <td>  -15.8818</td> <td>    7.637</td> <td>   -2.080</td> <td> 0.038</td> <td>  -30.880</td> <td>   -0.884</td>\n",
              "</tr>\n",
              "<tr>\n",
              "  <th>job_state_GA</th>                                      <td>  -18.5207</td> <td>   10.118</td> <td>   -1.831</td> <td> 0.068</td> <td>  -38.391</td> <td>    1.350</td>\n",
              "</tr>\n",
              "<tr>\n",
              "  <th>job_state_IA</th>                                      <td>   -2.5372</td> <td>   12.448</td> <td>   -0.204</td> <td> 0.839</td> <td>  -26.984</td> <td>   21.910</td>\n",
              "</tr>\n",
              "<tr>\n",
              "  <th>job_state_ID</th>                                      <td>  -24.3652</td> <td>   18.301</td> <td>   -1.331</td> <td> 0.184</td> <td>  -60.307</td> <td>   11.577</td>\n",
              "</tr>\n",
              "<tr>\n",
              "  <th>job_state_IL</th>                                      <td>    9.0923</td> <td>    5.034</td> <td>    1.806</td> <td> 0.071</td> <td>   -0.795</td> <td>   18.980</td>\n",
              "</tr>\n",
              "<tr>\n",
              "  <th>job_state_IN</th>                                      <td>  -10.2985</td> <td>    8.818</td> <td>   -1.168</td> <td> 0.243</td> <td>  -27.616</td> <td>    7.019</td>\n",
              "</tr>\n",
              "<tr>\n",
              "  <th>job_state_KS</th>                                      <td>  -15.1193</td> <td>    7.891</td> <td>   -1.916</td> <td> 0.056</td> <td>  -30.617</td> <td>    0.378</td>\n",
              "</tr>\n",
              "<tr>\n",
              "  <th>job_state_KY</th>                                      <td>   19.8228</td> <td>   12.362</td> <td>    1.604</td> <td> 0.109</td> <td>   -4.455</td> <td>   44.101</td>\n",
              "</tr>\n",
              "<tr>\n",
              "  <th>job_state_LA</th>                                      <td>   -6.2825</td> <td>   13.081</td> <td>   -0.480</td> <td> 0.631</td> <td>  -31.972</td> <td>   19.407</td>\n",
              "</tr>\n",
              "<tr>\n",
              "  <th>job_state_MA</th>                                      <td>    2.8306</td> <td>    3.874</td> <td>    0.731</td> <td> 0.465</td> <td>   -4.777</td> <td>   10.438</td>\n",
              "</tr>\n",
              "<tr>\n",
              "  <th>job_state_MD</th>                                      <td>    7.8210</td> <td>    4.925</td> <td>    1.588</td> <td> 0.113</td> <td>   -1.852</td> <td>   17.494</td>\n",
              "</tr>\n",
              "<tr>\n",
              "  <th>job_state_MI</th>                                      <td>    7.4759</td> <td>   12.333</td> <td>    0.606</td> <td> 0.545</td> <td>  -16.745</td> <td>   31.697</td>\n",
              "</tr>\n",
              "<tr>\n",
              "  <th>job_state_MN</th>                                      <td>    8.3638</td> <td>   17.270</td> <td>    0.484</td> <td> 0.628</td> <td>  -25.554</td> <td>   42.282</td>\n",
              "</tr>\n",
              "<tr>\n",
              "  <th>job_state_MO</th>                                      <td>    9.8795</td> <td>    9.858</td> <td>    1.002</td> <td> 0.317</td> <td>   -9.480</td> <td>   29.239</td>\n",
              "</tr>\n",
              "<tr>\n",
              "  <th>job_state_NC</th>                                      <td>   -3.8842</td> <td>    6.753</td> <td>   -0.575</td> <td> 0.565</td> <td>  -17.147</td> <td>    9.378</td>\n",
              "</tr>\n",
              "<tr>\n",
              "  <th>job_state_NE</th>                                      <td>   -3.1248</td> <td>   13.460</td> <td>   -0.232</td> <td> 0.816</td> <td>  -29.559</td> <td>   23.309</td>\n",
              "</tr>\n",
              "<tr>\n",
              "  <th>job_state_NJ</th>                                      <td>    1.1963</td> <td>    6.825</td> <td>    0.175</td> <td> 0.861</td> <td>  -12.207</td> <td>   14.599</td>\n",
              "</tr>\n",
              "<tr>\n",
              "  <th>job_state_NM</th>                                      <td>  -30.4862</td> <td>   14.487</td> <td>   -2.104</td> <td> 0.036</td> <td>  -58.937</td> <td>   -2.035</td>\n",
              "</tr>\n",
              "<tr>\n",
              "  <th>job_state_NY</th>                                      <td>    5.8334</td> <td>    4.026</td> <td>    1.449</td> <td> 0.148</td> <td>   -2.074</td> <td>   13.741</td>\n",
              "</tr>\n",
              "<tr>\n",
              "  <th>job_state_OH</th>                                      <td>   -0.4496</td> <td>    8.177</td> <td>   -0.055</td> <td> 0.956</td> <td>  -16.509</td> <td>   15.610</td>\n",
              "</tr>\n",
              "<tr>\n",
              "  <th>job_state_OR</th>                                      <td>    2.4004</td> <td>   12.656</td> <td>    0.190</td> <td> 0.850</td> <td>  -22.455</td> <td>   27.256</td>\n",
              "</tr>\n",
              "<tr>\n",
              "  <th>job_state_PA</th>                                      <td>    9.5857</td> <td>    7.261</td> <td>    1.320</td> <td> 0.187</td> <td>   -4.675</td> <td>   23.846</td>\n",
              "</tr>\n",
              "<tr>\n",
              "  <th>job_state_RI</th>                                      <td>   39.4784</td> <td>   24.690</td> <td>    1.599</td> <td> 0.110</td> <td>   -9.011</td> <td>   87.968</td>\n",
              "</tr>\n",
              "<tr>\n",
              "  <th>job_state_SC</th>                                      <td>   30.7095</td> <td>   29.339</td> <td>    1.047</td> <td> 0.296</td> <td>  -26.910</td> <td>   88.329</td>\n",
              "</tr>\n",
              "<tr>\n",
              "  <th>job_state_TN</th>                                      <td>   -6.0958</td> <td>    9.284</td> <td>   -0.657</td> <td> 0.512</td> <td>  -24.330</td> <td>   12.138</td>\n",
              "</tr>\n",
              "<tr>\n",
              "  <th>job_state_TX</th>                                      <td>    0.5729</td> <td>    5.643</td> <td>    0.102</td> <td> 0.919</td> <td>  -10.510</td> <td>   11.656</td>\n",
              "</tr>\n",
              "<tr>\n",
              "  <th>job_state_UT</th>                                      <td>    3.2737</td> <td>   14.837</td> <td>    0.221</td> <td> 0.825</td> <td>  -25.866</td> <td>   32.413</td>\n",
              "</tr>\n",
              "<tr>\n",
              "  <th>job_state_VA</th>                                      <td>   -0.0366</td> <td>    5.010</td> <td>   -0.007</td> <td> 0.994</td> <td>   -9.876</td> <td>    9.803</td>\n",
              "</tr>\n",
              "<tr>\n",
              "  <th>job_state_WA</th>                                      <td>   12.7527</td> <td>    8.147</td> <td>    1.565</td> <td> 0.118</td> <td>   -3.248</td> <td>   28.753</td>\n",
              "</tr>\n",
              "<tr>\n",
              "  <th>job_state_WI</th>                                      <td>   -4.1822</td> <td>   10.115</td> <td>   -0.413</td> <td> 0.679</td> <td>  -24.047</td> <td>   15.683</td>\n",
              "</tr>\n",
              "<tr>\n",
              "  <th>job_simp_analyst</th>                                  <td>  -31.3786</td> <td>    3.361</td> <td>   -9.335</td> <td> 0.000</td> <td>  -37.980</td> <td>  -24.777</td>\n",
              "</tr>\n",
              "<tr>\n",
              "  <th>job_simp_data engineer</th>                            <td>    2.1610</td> <td>    3.208</td> <td>    0.674</td> <td> 0.501</td> <td>   -4.139</td> <td>    8.461</td>\n",
              "</tr>\n",
              "<tr>\n",
              "  <th>job_simp_data scientist</th>                           <td>    8.1725</td> <td>    2.543</td> <td>    3.213</td> <td> 0.001</td> <td>    3.178</td> <td>   13.167</td>\n",
              "</tr>\n",
              "<tr>\n",
              "  <th>job_simp_director</th>                                 <td>   68.6448</td> <td>    6.614</td> <td>   10.379</td> <td> 0.000</td> <td>   55.656</td> <td>   81.634</td>\n",
              "</tr>\n",
              "<tr>\n",
              "  <th>job_simp_manager</th>                                  <td>  -14.6521</td> <td>    5.585</td> <td>   -2.624</td> <td> 0.009</td> <td>  -25.620</td> <td>   -3.684</td>\n",
              "</tr>\n",
              "<tr>\n",
              "  <th>job_simp_mle</th>                                      <td>   21.7589</td> <td>    6.032</td> <td>    3.607</td> <td> 0.000</td> <td>    9.912</td> <td>   33.606</td>\n",
              "</tr>\n",
              "<tr>\n",
              "  <th>job_simp_na</th>                                       <td>  -11.0858</td> <td>    2.987</td> <td>   -3.711</td> <td> 0.000</td> <td>  -16.952</td> <td>   -5.220</td>\n",
              "</tr>\n",
              "<tr>\n",
              "  <th>seniority_jr</th>                                      <td>   12.2493</td> <td>   13.313</td> <td>    0.920</td> <td> 0.358</td> <td>  -13.896</td> <td>   38.395</td>\n",
              "</tr>\n",
              "<tr>\n",
              "  <th>seniority_na</th>                                      <td>    2.7528</td> <td>    5.154</td> <td>    0.534</td> <td> 0.593</td> <td>   -7.369</td> <td>   12.875</td>\n",
              "</tr>\n",
              "<tr>\n",
              "  <th>seniority_senior</th>                                  <td>   28.6185</td> <td>    5.334</td> <td>    5.366</td> <td> 0.000</td> <td>   18.144</td> <td>   39.093</td>\n",
              "</tr>\n",
              "</table>\n",
              "<table class=\"simpletable\">\n",
              "<tr>\n",
              "  <th>Omnibus:</th>       <td>71.676</td> <th>  Durbin-Watson:     </th> <td>   2.047</td>\n",
              "</tr>\n",
              "<tr>\n",
              "  <th>Prob(Omnibus):</th> <td> 0.000</td> <th>  Jarque-Bera (JB):  </th> <td> 300.033</td>\n",
              "</tr>\n",
              "<tr>\n",
              "  <th>Skew:</th>          <td> 0.335</td> <th>  Prob(JB):          </th> <td>7.06e-66</td>\n",
              "</tr>\n",
              "<tr>\n",
              "  <th>Kurtosis:</th>      <td> 6.042</td> <th>  Cond. No.          </th> <td>1.82e+19</td>\n",
              "</tr>\n",
              "</table><br/><br/>Warnings:<br/>[1] Standard Errors assume that the covariance matrix of the errors is correctly specified.<br/>[2] The smallest eigenvalue is 3.88e-29. This might indicate that there are<br/>strong multicollinearity problems or that the design matrix is singular."
            ],
            "text/plain": [
              "<class 'statsmodels.iolib.summary.Summary'>\n",
              "\"\"\"\n",
              "                            OLS Regression Results                            \n",
              "==============================================================================\n",
              "Dep. Variable:                      y   R-squared:                       0.708\n",
              "Model:                            OLS   Adj. R-squared:                  0.638\n",
              "Method:                 Least Squares   F-statistic:                     10.21\n",
              "Date:                Fri, 12 Mar 2021   Prob (F-statistic):           1.47e-94\n",
              "Time:                        12:34:07   Log-Likelihood:                -3311.6\n",
              "No. Observations:                 742   AIC:                             6909.\n",
              "Df Residuals:                     599   BIC:                             7568.\n",
              "Df Model:                         142                                         \n",
              "Covariance Type:            nonrobust                                         \n",
              "=====================================================================================================================\n",
              "                                                        coef    std err          t      P>|t|      [0.025      0.975]\n",
              "---------------------------------------------------------------------------------------------------------------------\n",
              "const                                                43.6206      6.718      6.493      0.000      30.427      56.814\n",
              "Rating                                                3.6072      1.937      1.862      0.063      -0.197       7.412\n",
              "num_comp                                              2.2503      0.868      2.592      0.010       0.545       3.955\n",
              "hourly                                              -36.5646      9.173     -3.986      0.000     -54.580     -18.549\n",
              "employer_provided                                    31.3732     11.524      2.722      0.007       8.741      54.006\n",
              "same_state                                            2.4864      2.619      0.949      0.343      -2.657       7.629\n",
              "age                                                   0.0352      0.030      1.172      0.242      -0.024       0.094\n",
              "python_yn                                             8.1375      2.523      3.225      0.001       3.182      13.093\n",
              "spark                                                -0.5710      2.920     -0.196      0.845      -6.307       5.165\n",
              "aws                                                   1.1218      2.736      0.410      0.682      -4.251       6.495\n",
              "excel                                                -0.4049      2.268     -0.179      0.858      -4.858       4.049\n",
              "desc_len                                             -0.0001      0.001     -0.171      0.864      -0.002       0.001\n",
              "Size_-1                                              13.6113      8.629      1.577      0.115      -3.335      30.558\n",
              "Size_1 to 50 employees                                1.1067      6.501      0.170      0.865     -11.660      13.874\n",
              "Size_10000+ employees                                -2.8817      5.800     -0.497      0.619     -14.272       8.509\n",
              "Size_1001 to 5000 employees                           6.1362      3.878      1.582      0.114      -1.481      13.753\n",
              "Size_201 to 500 employees                             2.2568      3.873      0.583      0.560      -5.350       9.864\n",
              "Size_5001 to 10000 employees                         -3.8766      5.440     -0.713      0.476     -14.561       6.808\n",
              "Size_501 to 1000 employees                            2.1829      4.059      0.538      0.591      -5.790      10.155\n",
              "Size_51 to 200 employees                              4.2001      4.422      0.950      0.343      -4.484      12.884\n",
              "Size_Unknown                                         20.8850     13.992      1.493      0.136      -6.594      48.363\n",
              "Type of ownership_-1                                 13.6113      8.629      1.577      0.115      -3.335      30.558\n",
              "Type of ownership_College / University                6.4226     17.739      0.362      0.717     -28.415      41.260\n",
              "Type of ownership_Company - Private                   8.5961      5.239      1.641      0.101      -1.693      18.885\n",
              "Type of ownership_Company - Public                   13.2838      5.699      2.331      0.020       2.092      24.476\n",
              "Type of ownership_Government                        -15.3361     15.289     -1.003      0.316     -45.363      14.690\n",
              "Type of ownership_Hospital                           -7.1449      9.965     -0.717      0.474     -26.715      12.425\n",
              "Type of ownership_Nonprofit Organization             -9.8081      6.711     -1.461      0.144     -22.988       3.372\n",
              "Type of ownership_Other Organization                 -5.9776     14.342     -0.417      0.677     -34.145      22.190\n",
              "Type of ownership_School / School District           -5.9877     23.790     -0.252      0.801     -52.711      40.735\n",
              "Type of ownership_Subsidiary or Business Segment     12.7968      6.928      1.847      0.065      -0.809      26.403\n",
              "Type of ownership_Unknown                            33.1643     28.609      1.159      0.247     -23.021      89.350\n",
              "Industry_-1                                           5.8348      7.935      0.735      0.462      -9.749      21.418\n",
              "Industry_Accounting                                   2.5126     13.486      0.186      0.852     -23.972      28.998\n",
              "Industry_Advertising & Marketing                     11.6598      5.976      1.951      0.051      -0.076      23.395\n",
              "Industry_Aerospace & Defense                          5.5848      3.109      1.796      0.073      -0.522      11.691\n",
              "Industry_Architectural & Engineering Services       -32.4290     15.935     -2.035      0.042     -63.725      -1.133\n",
              "Industry_Auctions & Galleries                         9.2579     22.878      0.405      0.686     -35.673      54.188\n",
              "Industry_Banks & Credit Unions                      -16.9696      8.047     -2.109      0.035     -32.773      -1.166\n",
              "Industry_Beauty & Personal Accessories Stores        15.4350     21.561      0.716      0.474     -26.910      57.780\n",
              "Industry_Biotech & Pharmaceuticals                    6.4280      2.045      3.144      0.002       2.413      10.443\n",
              "Industry_Brokerage Services                          28.1129     15.522      1.811      0.071      -2.371      58.597\n",
              "Industry_Colleges & Universities                     10.9589     12.989      0.844      0.399     -14.551      36.469\n",
              "Industry_Computer Hardware & Software                -0.9258      3.250     -0.285      0.776      -7.308       5.457\n",
              "Industry_Construction                               -15.5552     10.562     -1.473      0.141     -36.297       5.187\n",
              "Industry_Consulting                                  12.9352      5.900      2.192      0.029       1.347      24.523\n",
              "Industry_Consumer Product Rental                     -2.4434     13.017     -0.188      0.851     -28.008      23.121\n",
              "Industry_Consumer Products Manufacturing             13.8230      9.857      1.402      0.161      -5.536      33.182\n",
              "Industry_Department, Clothing, & Shoe Stores          4.7499     11.581      0.410      0.682     -17.994      27.494\n",
              "Industry_Education Training Services                -23.4814     12.524     -1.875      0.061     -48.078       1.115\n",
              "Industry_Energy                                      -4.1878      7.677     -0.545      0.586     -19.266      10.890\n",
              "Industry_Enterprise Software & Network Solutions      9.5038      3.592      2.646      0.008       2.450      16.558\n",
              "Industry_Farm Support Services                       -0.9070     12.652     -0.072      0.943     -25.755      23.941\n",
              "Industry_Federal Agencies                             8.0856      5.268      1.535      0.125      -2.260      18.432\n",
              "Industry_Financial Analytics & Research               0.3475      9.196      0.038      0.970     -17.712      18.407\n",
              "Industry_Financial Transaction Processing           -17.5024     12.894     -1.357      0.175     -42.826       7.821\n",
              "Industry_Food & Beverage Manufacturing               -3.1456     11.578     -0.272      0.786     -25.885      19.594\n",
              "Industry_Gambling                                    -9.2462      6.524     -1.417      0.157     -22.059       3.567\n",
              "Industry_Gas Stations                               -24.3209     15.543     -1.565      0.118     -54.846       6.204\n",
              "Industry_Health Care Products Manufacturing          20.9949     22.123      0.949      0.343     -22.453      64.442\n",
              "Industry_Health Care Services & Hospitals             5.9443      2.916      2.038      0.042       0.217      11.672\n",
              "Industry_Health, Beauty, & Fitness                   -2.2570     17.435     -0.129      0.897     -36.498      31.983\n",
              "Industry_IT Services                                  1.2166      3.581      0.340      0.734      -5.815       8.248\n",
              "Industry_Industrial Manufacturing                   -13.8216     12.833     -1.077      0.282     -39.024      11.381\n",
              "Industry_Insurance Agencies & Brokerages             -3.9085      7.005     -0.558      0.577     -17.666       9.849\n",
              "Industry_Insurance Carriers                           5.5811      4.489      1.243      0.214      -3.235      14.397\n",
              "Industry_Internet                                     0.3640      4.513      0.081      0.936      -8.500       9.228\n",
              "Industry_Investment Banking & Asset Management       35.8541     12.086      2.967      0.003      12.118      59.591\n",
              "Industry_K-12 Education                              10.0777     14.781      0.682      0.496     -18.951      39.106\n",
              "Industry_Lending                                     -1.5172      9.862     -0.154      0.878     -20.885      17.851\n",
              "Industry_Logistics & Supply Chain                     1.4241     13.404      0.106      0.915     -24.901      27.749\n",
              "Industry_Metals Brokers                              -7.9160     15.608     -0.507      0.612     -38.569      22.737\n",
              "Industry_Mining                                      -3.6172     17.981     -0.201      0.841     -38.930      31.696\n",
              "Industry_Motion Picture Production & Distribution    46.0377     19.607      2.348      0.019       7.530      84.545\n",
              "Industry_Other Retail Stores                         40.0083     21.695      1.844      0.066      -2.599      82.615\n",
              "Industry_Real Estate                                 -2.3233      4.960     -0.468      0.640     -12.064       7.417\n",
              "Industry_Religious Organizations                     25.8674     13.712      1.887      0.060      -1.062      52.796\n",
              "Industry_Research & Development                      -3.1169      6.544     -0.476      0.634     -15.969       9.735\n",
              "Industry_Security Services                           14.3480      9.791      1.465      0.143      -4.881      33.577\n",
              "Industry_Social Assistance                          -11.0802     11.785     -0.940      0.347     -34.225      12.065\n",
              "Industry_Sporting Goods Stores                      -37.3253     17.862     -2.090      0.037     -72.404      -2.246\n",
              "Industry_Staffing & Outsourcing                      -5.4095     11.017     -0.491      0.624     -27.047      16.228\n",
              "Industry_Stock Exchanges                            -15.1193      7.891     -1.916      0.056     -30.617       0.378\n",
              "Industry_TV Broadcast & Cable Networks                0.0047     15.540      0.000      1.000     -30.515      30.524\n",
              "Industry_Telecommunications Manufacturing             4.1739     13.669      0.305      0.760     -22.671      31.019\n",
              "Industry_Telecommunications Services                  0.1435     11.268      0.013      0.990     -21.986      22.273\n",
              "Industry_Transportation Equipment Manufacturing     -19.4087     23.723     -0.818      0.414     -66.000      27.182\n",
              "Industry_Transportation Management                  -20.6808     14.025     -1.475      0.141     -48.226       6.864\n",
              "Industry_Travel Agencies                             -5.5128      5.255     -1.049      0.295     -15.833       4.808\n",
              "Industry_Trucking                                    22.8333     19.851      1.150      0.251     -16.153      61.820\n",
              "Industry_Video Games                                -30.1323     14.431     -2.088      0.037     -58.474      -1.791\n",
              "Industry_Wholesale                                   -2.2218     13.108     -0.170      0.865     -27.964      23.521\n",
              "Sector_-1                                             5.8348      7.935      0.735      0.462      -9.749      21.418\n",
              "Sector_Accounting & Legal                             2.5126     13.486      0.186      0.852     -23.972      28.998\n",
              "Sector_Aerospace & Defense                            5.5848      3.109      1.796      0.073      -0.522      11.691\n",
              "Sector_Agriculture & Forestry                        -0.9070     12.652     -0.072      0.943     -25.755      23.941\n",
              "Sector_Arts, Entertainment & Recreation              -9.2462      6.524     -1.417      0.157     -22.059       3.567\n",
              "Sector_Biotech & Pharmaceuticals                      6.4280      2.045      3.144      0.002       2.413      10.443\n",
              "Sector_Business Services                             -4.2343      4.213     -1.005      0.315     -12.508       4.039\n",
              "Sector_Construction, Repair & Maintenance           -15.5552     10.562     -1.473      0.141     -36.297       5.187\n",
              "Sector_Consumer Services                             -4.7005      9.426     -0.499      0.618     -23.212      13.811\n",
              "Sector_Education                                     -2.4448      6.838     -0.358      0.721     -15.874      10.984\n",
              "Sector_Finance                                       13.2060      4.519      2.923      0.004       4.332      22.080\n",
              "Sector_Government                                     8.0856      5.268      1.535      0.125      -2.260      18.432\n",
              "Sector_Health Care                                    5.9443      2.916      2.038      0.042       0.217      11.672\n",
              "Sector_Information Technology                        10.1586      2.786      3.647      0.000       4.688      15.630\n",
              "Sector_Insurance                                      1.6726      3.944      0.424      0.672      -6.074       9.419\n",
              "Sector_Manufacturing                                 -1.5580      6.909     -0.225      0.822     -15.127      12.011\n",
              "Sector_Media                                         15.9102      8.725      1.824      0.069      -1.225      33.046\n",
              "Sector_Mining & Metals                              -11.5332     10.727     -1.075      0.283     -32.600       9.534\n",
              "Sector_Non-Profit                                    14.7872      8.898      1.662      0.097      -2.687      32.262\n",
              "Sector_Oil, Gas, Energy & Utilities                  -4.1878      7.677     -0.545      0.586     -19.266      10.890\n",
              "Sector_Real Estate                                   -2.3233      4.960     -0.468      0.640     -12.064       7.417\n",
              "Sector_Retail                                         7.8048      7.178      1.087      0.277      -6.292      21.902\n",
              "Sector_Telecommunications                             4.3174      7.813      0.553      0.581     -11.027      19.662\n",
              "Sector_Transportation & Logistics                     3.5766      8.050      0.444      0.657     -12.234      19.387\n",
              "Sector_Travel & Tourism                              -5.5128      5.255     -1.049      0.295     -15.833       4.808\n",
              "Revenue_$1 to $2 billion (USD)                        2.9195      4.800      0.608      0.543      -6.508      12.347\n",
              "Revenue_$1 to $5 million (USD)                       -5.6333     10.967     -0.514      0.608     -27.171      15.904\n",
              "Revenue_$10 to $25 million (USD)                     -4.8321      5.228     -0.924      0.356     -15.100       5.436\n",
              "Revenue_$10+ billion (USD)                           10.3949      6.397      1.625      0.105      -2.169      22.958\n",
              "Revenue_$100 to $500 million (USD)                   -5.1215      4.064     -1.260      0.208     -13.103       2.860\n",
              "Revenue_$2 to $5 billion (USD)                        0.2203      6.284      0.035      0.972     -12.120      12.561\n",
              "Revenue_$25 to $50 million (USD)                     -5.2629      5.368     -0.980      0.327     -15.805       5.279\n",
              "Revenue_$5 to $10 billion (USD)                       6.6933      7.864      0.851      0.395      -8.751      22.137\n",
              "Revenue_$5 to $10 million (USD)                      31.8134      8.322      3.823      0.000      15.469      48.157\n",
              "Revenue_$50 to $100 million (USD)                     5.3810      4.973      1.082      0.280      -4.387      15.149\n",
              "Revenue_$500 million to $1 billion (USD)             -1.9286      5.298     -0.364      0.716     -12.333       8.476\n",
              "Revenue_-1                                           13.6113      8.629      1.577      0.115      -3.335      30.558\n",
              "Revenue_Less than $1 million (USD)                   -4.3211     15.210     -0.284      0.776     -34.192      25.550\n",
              "Revenue_Unknown / Non-Applicable                     -0.3136      3.081     -0.102      0.919      -6.365       5.738\n",
              "job_state_AL                                         -5.9978     10.467     -0.573      0.567     -26.555      14.559\n",
              "job_state_AZ                                        -14.0248      8.626     -1.626      0.105     -30.966       2.916\n",
              "job_state_CA                                         26.7221      3.156      8.468      0.000      20.524      32.920\n",
              "job_state_CO                                          7.8474      8.299      0.946      0.345      -8.451      24.146\n",
              "job_state_CT                                        -23.7171     11.367     -2.087      0.037     -46.040      -1.394\n",
              "job_state_DC                                         13.7323      7.936      1.730      0.084      -1.853      29.318\n",
              "job_state_DE                                          9.2343     13.871      0.666      0.506     -18.007      36.476\n",
              "job_state_FL                                        -15.8818      7.637     -2.080      0.038     -30.880      -0.884\n",
              "job_state_GA                                        -18.5207     10.118     -1.831      0.068     -38.391       1.350\n",
              "job_state_IA                                         -2.5372     12.448     -0.204      0.839     -26.984      21.910\n",
              "job_state_ID                                        -24.3652     18.301     -1.331      0.184     -60.307      11.577\n",
              "job_state_IL                                          9.0923      5.034      1.806      0.071      -0.795      18.980\n",
              "job_state_IN                                        -10.2985      8.818     -1.168      0.243     -27.616       7.019\n",
              "job_state_KS                                        -15.1193      7.891     -1.916      0.056     -30.617       0.378\n",
              "job_state_KY                                         19.8228     12.362      1.604      0.109      -4.455      44.101\n",
              "job_state_LA                                         -6.2825     13.081     -0.480      0.631     -31.972      19.407\n",
              "job_state_MA                                          2.8306      3.874      0.731      0.465      -4.777      10.438\n",
              "job_state_MD                                          7.8210      4.925      1.588      0.113      -1.852      17.494\n",
              "job_state_MI                                          7.4759     12.333      0.606      0.545     -16.745      31.697\n",
              "job_state_MN                                          8.3638     17.270      0.484      0.628     -25.554      42.282\n",
              "job_state_MO                                          9.8795      9.858      1.002      0.317      -9.480      29.239\n",
              "job_state_NC                                         -3.8842      6.753     -0.575      0.565     -17.147       9.378\n",
              "job_state_NE                                         -3.1248     13.460     -0.232      0.816     -29.559      23.309\n",
              "job_state_NJ                                          1.1963      6.825      0.175      0.861     -12.207      14.599\n",
              "job_state_NM                                        -30.4862     14.487     -2.104      0.036     -58.937      -2.035\n",
              "job_state_NY                                          5.8334      4.026      1.449      0.148      -2.074      13.741\n",
              "job_state_OH                                         -0.4496      8.177     -0.055      0.956     -16.509      15.610\n",
              "job_state_OR                                          2.4004     12.656      0.190      0.850     -22.455      27.256\n",
              "job_state_PA                                          9.5857      7.261      1.320      0.187      -4.675      23.846\n",
              "job_state_RI                                         39.4784     24.690      1.599      0.110      -9.011      87.968\n",
              "job_state_SC                                         30.7095     29.339      1.047      0.296     -26.910      88.329\n",
              "job_state_TN                                         -6.0958      9.284     -0.657      0.512     -24.330      12.138\n",
              "job_state_TX                                          0.5729      5.643      0.102      0.919     -10.510      11.656\n",
              "job_state_UT                                          3.2737     14.837      0.221      0.825     -25.866      32.413\n",
              "job_state_VA                                         -0.0366      5.010     -0.007      0.994      -9.876       9.803\n",
              "job_state_WA                                         12.7527      8.147      1.565      0.118      -3.248      28.753\n",
              "job_state_WI                                         -4.1822     10.115     -0.413      0.679     -24.047      15.683\n",
              "job_simp_analyst                                    -31.3786      3.361     -9.335      0.000     -37.980     -24.777\n",
              "job_simp_data engineer                                2.1610      3.208      0.674      0.501      -4.139       8.461\n",
              "job_simp_data scientist                               8.1725      2.543      3.213      0.001       3.178      13.167\n",
              "job_simp_director                                    68.6448      6.614     10.379      0.000      55.656      81.634\n",
              "job_simp_manager                                    -14.6521      5.585     -2.624      0.009     -25.620      -3.684\n",
              "job_simp_mle                                         21.7589      6.032      3.607      0.000       9.912      33.606\n",
              "job_simp_na                                         -11.0858      2.987     -3.711      0.000     -16.952      -5.220\n",
              "seniority_jr                                         12.2493     13.313      0.920      0.358     -13.896      38.395\n",
              "seniority_na                                          2.7528      5.154      0.534      0.593      -7.369      12.875\n",
              "seniority_senior                                     28.6185      5.334      5.366      0.000      18.144      39.093\n",
              "==============================================================================\n",
              "Omnibus:                       71.676   Durbin-Watson:                   2.047\n",
              "Prob(Omnibus):                  0.000   Jarque-Bera (JB):              300.033\n",
              "Skew:                           0.335   Prob(JB):                     7.06e-66\n",
              "Kurtosis:                       6.042   Cond. No.                     1.82e+19\n",
              "==============================================================================\n",
              "\n",
              "Warnings:\n",
              "[1] Standard Errors assume that the covariance matrix of the errors is correctly specified.\n",
              "[2] The smallest eigenvalue is 3.88e-29. This might indicate that there are\n",
              "strong multicollinearity problems or that the design matrix is singular.\n",
              "\"\"\""
            ]
          },
          "metadata": {
            "tags": []
          },
          "execution_count": 21
        }
      ]
    },
    {
      "cell_type": "code",
      "metadata": {
        "colab": {
          "base_uri": "https://localhost:8080/"
        },
        "id": "ZME0-OssAAih",
        "outputId": "069cb41b-5d1c-4cfa-f653-bdc472d4a0f1"
      },
      "source": [
        "from sklearn.linear_model import LinearRegression, Lasso\r\n",
        "from sklearn.model_selection import cross_val_score\r\n",
        "\r\n",
        "lm = LinearRegression()\r\n",
        "lm.fit(X_train, y_train)\r\n",
        "\r\n",
        "np.mean(cross_val_score(lm,X_train,y_train, scoring = 'neg_mean_absolute_error', cv= 4))\r\n"
      ],
      "execution_count": 22,
      "outputs": [
        {
          "output_type": "execute_result",
          "data": {
            "text/plain": [
              "-19.770697903818558"
            ]
          },
          "metadata": {
            "tags": []
          },
          "execution_count": 22
        }
      ]
    },
    {
      "cell_type": "code",
      "metadata": {
        "colab": {
          "base_uri": "https://localhost:8080/",
          "height": 325
        },
        "id": "HuZ03NBjCbUo",
        "outputId": "d5cfc0e9-8564-4e3d-fe7a-f76fb69b2cbc"
      },
      "source": [
        "lm_l = Lasso(alpha=.13)\r\n",
        "lm_l.fit(X_train,y_train)\r\n",
        "np.mean(cross_val_score(lm_l,X_train,y_train, scoring = 'neg_mean_absolute_error', cv= 4))\r\n",
        "\r\n",
        "alpha = []\r\n",
        "error = []\r\n",
        "\r\n",
        "for i in range(1,100):\r\n",
        "    alpha.append(i/100)\r\n",
        "    lml = Lasso(alpha=(i/100))\r\n",
        "    error.append(np.mean(cross_val_score(lml,X_train,y_train, scoring = 'neg_mean_absolute_error', cv= 3)))\r\n",
        "    \r\n",
        "plt.plot(alpha,error)\r\n",
        "\r\n",
        "err = tuple(zip(alpha,error))\r\n",
        "df_err = pd.DataFrame(err, columns = ['alpha','error'])\r\n",
        "df_err[df_err.error == max(df_err.error)]\r\n"
      ],
      "execution_count": 40,
      "outputs": [
        {
          "output_type": "execute_result",
          "data": {
            "text/html": [
              "<div>\n",
              "<style scoped>\n",
              "    .dataframe tbody tr th:only-of-type {\n",
              "        vertical-align: middle;\n",
              "    }\n",
              "\n",
              "    .dataframe tbody tr th {\n",
              "        vertical-align: top;\n",
              "    }\n",
              "\n",
              "    .dataframe thead th {\n",
              "        text-align: right;\n",
              "    }\n",
              "</style>\n",
              "<table border=\"1\" class=\"dataframe\">\n",
              "  <thead>\n",
              "    <tr style=\"text-align: right;\">\n",
              "      <th></th>\n",
              "      <th>alpha</th>\n",
              "      <th>error</th>\n",
              "    </tr>\n",
              "  </thead>\n",
              "  <tbody>\n",
              "    <tr>\n",
              "      <th>12</th>\n",
              "      <td>0.13</td>\n",
              "      <td>-19.257798</td>\n",
              "    </tr>\n",
              "  </tbody>\n",
              "</table>\n",
              "</div>"
            ],
            "text/plain": [
              "    alpha      error\n",
              "12   0.13 -19.257798"
            ]
          },
          "metadata": {
            "tags": []
          },
          "execution_count": 40
        },
        {
          "output_type": "display_data",
          "data": {
            "image/png": "[encoded data removed]",
            "text/plain": [
              "<Figure size 432x288 with 1 Axes>"
            ]
          },
          "metadata": {
            "tags": [],
            "needs_background": "light"
          }
        }
      ]
    },
    {
      "cell_type": "markdown",
      "metadata": {
        "id": "kKZIBiB2DXGj"
      },
      "source": [
        "## random forest\r\n"
      ]
    },
    {
      "cell_type": "code",
      "metadata": {
        "colab": {
          "base_uri": "https://localhost:8080/"
        },
        "id": "WVUkD5ZTCr12",
        "outputId": "83560a1b-79f9-4111-c02f-e2ad44b7e247"
      },
      "source": [
        "from sklearn.ensemble import RandomForestRegressor\r\n",
        "rf = RandomForestRegressor()\r\n",
        "\r\n",
        "np.mean(cross_val_score(rf,X_train,y_train,scoring = 'neg_mean_absolute_error', cv= 4))\r\n"
      ],
      "execution_count": 41,
      "outputs": [
        {
          "output_type": "execute_result",
          "data": {
            "text/plain": [
              "-14.663986769907492"
            ]
          },
          "metadata": {
            "tags": []
          },
          "execution_count": 41
        }
      ]
    },
    {
      "cell_type": "markdown",
      "metadata": {
        "id": "Vie7dDo9V2ax"
      },
      "source": [
        "grid search"
      ]
    },
    {
      "cell_type": "code",
      "metadata": {
        "colab": {
          "base_uri": "https://localhost:8080/"
        },
        "id": "FDukKB5NV1On",
        "outputId": "6fbd7e2a-2a7f-4a71-febc-761f1103cbf4"
      },
      "source": [
        "from sklearn.model_selection import GridSearchCV\r\n",
        "parameters = {'n_estimators':range(10,300,10), 'criterion':('mse','mae'), 'max_features':('auto','sqrt','log2')}\r\n",
        "\r\n",
        "gs = GridSearchCV(rf,parameters,scoring='neg_mean_absolute_error',cv=3)\r\n",
        "gs.fit(X_train,y_train)"
      ],
      "execution_count": 42,
      "outputs": [
        {
          "output_type": "execute_result",
          "data": {
            "text/plain": [
              "GridSearchCV(cv=3, error_score=nan,\n",
              "             estimator=RandomForestRegressor(bootstrap=True, ccp_alpha=0.0,\n",
              "                                             criterion='mse', max_depth=None,\n",
              "                                             max_features='auto',\n",
              "                                             max_leaf_nodes=None,\n",
              "                                             max_samples=None,\n",
              "                                             min_impurity_decrease=0.0,\n",
              "                                             min_impurity_split=None,\n",
              "                                             min_samples_leaf=1,\n",
              "                                             min_samples_split=2,\n",
              "                                             min_weight_fraction_leaf=0.0,\n",
              "                                             n_estimators=100, n_jobs=None,\n",
              "                                             oob_score=False, random_state=None,\n",
              "                                             verbose=0, warm_start=False),\n",
              "             iid='deprecated', n_jobs=None,\n",
              "             param_grid={'criterion': ('mse', 'mae'),\n",
              "                         'max_features': ('auto', 'sqrt', 'log2'),\n",
              "                         'n_estimators': range(10, 300, 10)},\n",
              "             pre_dispatch='2*n_jobs', refit=True, return_train_score=False,\n",
              "             scoring='neg_mean_absolute_error', verbose=0)"
            ]
          },
          "metadata": {
            "tags": []
          },
          "execution_count": 42
        }
      ]
    },
    {
      "cell_type": "code",
      "metadata": {
        "colab": {
          "base_uri": "https://localhost:8080/"
        },
        "id": "lQYLYbMKV7lX",
        "outputId": "12cf6ff6-6fc1-4f0a-cb3a-05a947e1dd87"
      },
      "source": [
        "gs.best_score_"
      ],
      "execution_count": 43,
      "outputs": [
        {
          "output_type": "execute_result",
          "data": {
            "text/plain": [
              "-14.818445722700332"
            ]
          },
          "metadata": {
            "tags": []
          },
          "execution_count": 43
        }
      ]
    },
    {
      "cell_type": "code",
      "metadata": {
        "colab": {
          "base_uri": "https://localhost:8080/"
        },
        "id": "Ghfjp3OlWPgU",
        "outputId": "c2a35213-69bf-4ef9-8b26-eafa45132058"
      },
      "source": [
        "gs.best_estimator_\r\n"
      ],
      "execution_count": 44,
      "outputs": [
        {
          "output_type": "execute_result",
          "data": {
            "text/plain": [
              "RandomForestRegressor(bootstrap=True, ccp_alpha=0.0, criterion='mse',\n",
              "                      max_depth=None, max_features='auto', max_leaf_nodes=None,\n",
              "                      max_samples=None, min_impurity_decrease=0.0,\n",
              "                      min_impurity_split=None, min_samples_leaf=1,\n",
              "                      min_samples_split=2, min_weight_fraction_leaf=0.0,\n",
              "                      n_estimators=190, n_jobs=None, oob_score=False,\n",
              "                      random_state=None, verbose=0, warm_start=False)"
            ]
          },
          "metadata": {
            "tags": []
          },
          "execution_count": 44
        }
      ]
    },
    {
      "cell_type": "code",
      "metadata": {
        "id": "qRKJ_b_KWWtk"
      },
      "source": [
        "tpred_lm = lm.predict(X_test)\r\n",
        "tpred_lml = lm_l.predict(X_test)\r\n"
      ],
      "execution_count": 45,
      "outputs": []
    },
    {
      "cell_type": "code",
      "metadata": {
        "id": "c7gAG20zcDeB"
      },
      "source": [
        "tpred_rf = gs.best_estimator_.predict(X_test)"
      ],
      "execution_count": 48,
      "outputs": []
    },
    {
      "cell_type": "code",
      "metadata": {
        "colab": {
          "base_uri": "https://localhost:8080/"
        },
        "id": "BtTb7rjhXhX3",
        "outputId": "98e3d853-bf34-4b4a-ada8-1d853c700cad"
      },
      "source": [
        "from sklearn.metrics import mean_absolute_error\r\n",
        "mean_absolute_error(y_test,tpred_lm)"
      ],
      "execution_count": 49,
      "outputs": [
        {
          "output_type": "execute_result",
          "data": {
            "text/plain": [
              "18.855189990207332"
            ]
          },
          "metadata": {
            "tags": []
          },
          "execution_count": 49
        }
      ]
    },
    {
      "cell_type": "code",
      "metadata": {
        "colab": {
          "base_uri": "https://localhost:8080/"
        },
        "id": "FohiVssFXxv6",
        "outputId": "13c7508c-a24c-429b-fedd-322145b8fa37"
      },
      "source": [
        "mean_absolute_error(y_test,tpred_lml)"
      ],
      "execution_count": 50,
      "outputs": [
        {
          "output_type": "execute_result",
          "data": {
            "text/plain": [
              "19.665303712749914"
            ]
          },
          "metadata": {
            "tags": []
          },
          "execution_count": 50
        }
      ]
    },
    {
      "cell_type": "code",
      "metadata": {
        "colab": {
          "base_uri": "https://localhost:8080/"
        },
        "id": "lqBhLPMfX9rc",
        "outputId": "2e30e507-f210-4ce2-993a-20ee62c1d148"
      },
      "source": [
        "mean_absolute_error(y_test,tpred_rf)"
      ],
      "execution_count": 51,
      "outputs": [
        {
          "output_type": "execute_result",
          "data": {
            "text/plain": [
              "10.957099964676791"
            ]
          },
          "metadata": {
            "tags": []
          },
          "execution_count": 51
        }
      ]
    },
    {
      "cell_type": "code",
      "metadata": {
        "colab": {
          "base_uri": "https://localhost:8080/"
        },
        "id": "wXK14BElX_R7",
        "outputId": "dae48a36-e12c-4216-de71-d6139d0805f8"
      },
      "source": [
        "mean_absolute_error(y_test,(tpred_lm+tpred_rf)/2)"
      ],
      "execution_count": 52,
      "outputs": [
        {
          "output_type": "execute_result",
          "data": {
            "text/plain": [
              "14.140256017071748"
            ]
          },
          "metadata": {
            "tags": []
          },
          "execution_count": 52
        }
      ]
    },
    {
      "cell_type": "code",
      "metadata": {
        "id": "SuPJOx7emkCM"
      },
      "source": [
        "import pickle\r\n",
        "pickl = {'model': gs.best_estimator_}\r\n",
        "pickle.dump( pickl, open( 'model_file' + \".p\", \"wb\" ) )"
      ],
      "execution_count": 53,
      "outputs": []
    }
  ]
}