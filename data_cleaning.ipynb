{
  "nbformat": 4,
  "nbformat_minor": 0,
  "metadata": {
    "kernelspec": {
      "display_name": "Python 3",
      "language": "python",
      "name": "python3"
    },
    "language_info": {
      "codemirror_mode": {
        "name": "ipython",
        "version": 3
      },
      "file_extension": ".py",
      "mimetype": "text/x-python",
      "name": "python",
      "nbconvert_exporter": "python",
      "pygments_lexer": "ipython3",
      "version": "3.7.0"
    },
    "colab": {
      "name": "data_cleaning.ipynb",
      "provenance": []
    }
  },
  "cells": [
    {
      "cell_type": "code",
      "metadata": {
        "id": "stY0pteyArvc"
      },
      "source": [
        "import pandas as pd"
      ],
      "execution_count": 17,
      "outputs": []
    },
    {
      "cell_type": "code",
      "metadata": {
        "id": "IrcUCFG1B2IG"
      },
      "source": [
        "df = pd.read_csv('/content/glassdoor_jobs.csv')"
      ],
      "execution_count": 25,
      "outputs": []
    },
    {
      "cell_type": "code",
      "metadata": {
        "id": "4OQlm8zLCXC9"
      },
      "source": [
        "df"
      ],
      "execution_count": null,
      "outputs": []
    },
    {
      "cell_type": "code",
      "metadata": {
        "id": "pq6EbtphETCj"
      },
      "source": [
        "df['hourly'] = df['Salary Estimate'].apply(lambda x: 1 if 'per hour' in x.lower() else 0)\r\n",
        "df['employer_provided'] = df['Salary Estimate'].apply(lambda x: 1 if 'employer provided salary' in x.lower() else 0)"
      ],
      "execution_count": 26,
      "outputs": []
    },
    {
      "cell_type": "code",
      "metadata": {
        "id": "9hFsPREhCQZe"
      },
      "source": [
        "df = df[df['Salary Estimate'] != '-1']\r\n",
        "salary = df['Salary Estimate'].apply(lambda x: x.split('(')[0])\r\n",
        "minus_kd = salary.apply(lambda x: x.replace('K','').replace('$',''))\r\n",
        "minus_hr = minus_kd.apply(lambda x: x.lower().replace('per hour','').replace('employer provided salary:',''))"
      ],
      "execution_count": 27,
      "outputs": []
    },
    {
      "cell_type": "code",
      "metadata": {
        "id": "HfT2FwxMFXPr"
      },
      "source": [
        "df['min_salary'] = minus_hr.apply(lambda x: int(x.split('-')[0]))\r\n",
        "df['max_salary'] = minus_hr.apply(lambda x: int(x.split('-')[1]))\r\n",
        "df['avg_salary'] = (df.min_salary+df.max_salary)/2"
      ],
      "execution_count": 28,
      "outputs": []
    },
    {
      "cell_type": "code",
      "metadata": {
        "id": "utsV1e9XHnWW"
      },
      "source": [
        "df['company_txt'] = df.apply(lambda x:x['Company Name'] if x['Rating'] <0 else x['Company Name'][:-3],axis = 1)\r\n",
        "df['job_state'] = df['Location'].apply(lambda x: x.split(',')[1])\r\n",
        "df['job_state'].value_counts()"
      ],
      "execution_count": null,
      "outputs": []
    },
    {
      "cell_type": "code",
      "metadata": {
        "colab": {
          "base_uri": "https://localhost:8080/"
        },
        "id": "iIepfduaJ1CM",
        "outputId": "f842ca11-4b0e-43f3-b266-cdfa71f249ab"
      },
      "source": [
        "df['same_state'] = df.apply(lambda x : 1 if x.Location == x.Headquarters else 0,axis = 1)"
      ],
      "execution_count": 36,
      "outputs": [
        {
          "output_type": "execute_result",
          "data": {
            "text/plain": [
              "0      0\n",
              "1      0\n",
              "2      1\n",
              "3      1\n",
              "4      1\n",
              "      ..\n",
              "950    0\n",
              "951    0\n",
              "952    1\n",
              "953    0\n",
              "955    0\n",
              "Name: same_state, Length: 742, dtype: int64"
            ]
          },
          "metadata": {
            "tags": []
          },
          "execution_count": 36
        }
      ]
    },
    {
      "cell_type": "code",
      "metadata": {
        "id": "QCVkiN0IKZ9n"
      },
      "source": [
        "df['age'] = df.Founded.apply(lambda x : x if x<1 else 2021 - x)"
      ],
      "execution_count": 37,
      "outputs": []
    },
    {
      "cell_type": "code",
      "metadata": {
        "id": "SZGXfv4MLS1T"
      },
      "source": [
        "df['python_yn'] = df['Job Description'].apply(lambda x: 1 if 'python' in x.lower() else 0)\r\n",
        "df['R_yn'] = df['Job Description'].apply(lambda x: 1 if 'r studio' in x.lower() else 0)\r\n",
        "df['spark_yn'] = df['Job Description'].apply(lambda x: 1 if 'spark' in x.lower() else 0)\r\n",
        "df['aws_yn'] = df['Job Description'].apply(lambda x: 1 if 'aws' in x.lower() else 0)\r\n",
        "df['excel_yn'] = df['Job Description'].apply(lambda x: 1 if 'excel' in x.lower() else 0)"
      ],
      "execution_count": 46,
      "outputs": []
    },
    {
      "cell_type": "code",
      "metadata": {
        "id": "C65vRFOuQlGW"
      },
      "source": [
        "df.R_yn.value_counts()"
      ],
      "execution_count": null,
      "outputs": []
    },
    {
      "cell_type": "code",
      "metadata": {
        "id": "n6BTnIDWQy-w"
      },
      "source": [
        "df.python_yn.value_counts()"
      ],
      "execution_count": null,
      "outputs": []
    },
    {
      "cell_type": "code",
      "metadata": {
        "id": "tZ6-xVqDQ11P"
      },
      "source": [
        "df.spark_yn.value_counts()"
      ],
      "execution_count": null,
      "outputs": []
    },
    {
      "cell_type": "code",
      "metadata": {
        "id": "olVj0lkSQ5yq"
      },
      "source": [
        "df.aws_yn.value_counts()"
      ],
      "execution_count": null,
      "outputs": []
    },
    {
      "cell_type": "code",
      "metadata": {
        "id": "lzrd7v8aQFjM"
      },
      "source": [
        "df.excel_yn.value_counts()"
      ],
      "execution_count": null,
      "outputs": []
    },
    {
      "cell_type": "code",
      "metadata": {
        "id": "qHhkU_ruRGNF"
      },
      "source": [
        "df_out = df.drop(['Unnamed: 0'],axis=1)\r\n",
        "df_out.to_csv('salary_data_cleaned.csv',index= False)"
      ],
      "execution_count": 51,
      "outputs": []
    }
  ]
}